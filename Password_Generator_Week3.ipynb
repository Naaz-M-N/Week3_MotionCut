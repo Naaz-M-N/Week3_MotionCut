{
 "cells": [
  {
   "cell_type": "code",
   "execution_count": 2,
   "id": "99d35062",
   "metadata": {},
   "outputs": [
    {
     "name": "stdout",
     "output_type": "stream",
     "text": [
      "Welcome to the Random Password Generator and Strength Checker!\n",
      "\n",
      "Enter the number of passwords to generate and check: 5\n",
      "Enter the length for Password #1: 4\n",
      "Generated Password #1: 7Gw|\n",
      "Strength: Weak password.\n",
      "\n",
      "Enter the length for Password #2: 8\n",
      "Generated Password #2: 65oT/_tX\n",
      "Strength: Weak password.\n",
      "\n",
      "Enter the length for Password #3: 9\n",
      "Generated Password #3: v1ugw2H!h\n",
      "Strength: Strong password.\n",
      "\n",
      "Enter the length for Password #4: 112\n",
      "Generated Password #4: bE6U~#L?s{KQ}4rm'D+lS*C^]Wvp43;6u#o~AlN]b(>CCg}k1Zk;dmM+NakYm-wP/([8~;A<tb)PVK'Vm.J::smD78=mRD<FA7Hhc}gVI:e/oiL2\n",
      "Strength: Strong password.\n",
      "\n",
      "Enter the length for Password #5: 13\n",
      "Generated Password #5: 7)4j<odVeXoz*\n",
      "Strength: Strong password.\n",
      "\n"
     ]
    }
   ],
   "source": [
    "import time\n",
    "import random\n",
    "import string\n",
    "\n",
    "def type_text_slow(text):\n",
    "    for char in text:\n",
    "        print(char, end='', flush=True)\n",
    "        time.sleep(0.05)  # Adjust the sleep time to control the typing speed\n",
    "    print()\n",
    "\n",
    "def generate_password(length=12):\n",
    "    uppercase_letters = string.ascii_uppercase\n",
    "    lowercase_letters = string.ascii_lowercase\n",
    "    digits = string.digits\n",
    "    special_characters = string.punctuation\n",
    "\n",
    "    all_characters = uppercase_letters + lowercase_letters + digits + special_characters\n",
    "\n",
    "    password = (\n",
    "        random.choice(uppercase_letters) +\n",
    "        random.choice(lowercase_letters) +\n",
    "        random.choice(digits) +\n",
    "        random.choice(special_characters)\n",
    "    )\n",
    "\n",
    "    password += ''.join(random.choice(all_characters) for _ in range(length - 4))\n",
    "\n",
    "    password_list = list(password)\n",
    "    random.shuffle(password_list)\n",
    "    password = ''.join(password_list)\n",
    "\n",
    "    return password\n",
    "\n",
    "def check_password_strength(password):\n",
    "    length = len(password)\n",
    "    if length <= 8:\n",
    "        return \"Weak password.\"\n",
    "    else:\n",
    "        return \"Strong password.\"\n",
    "\n",
    "if __name__ == \"__main__\":\n",
    "    type_text_slow(\"Welcome to the Random Password Generator and Strength Checker!\\n\")\n",
    "\n",
    "    number_of_passwords = int(input(\"Enter the number of passwords to generate and check: \"))\n",
    "\n",
    "    for i in range(1, number_of_passwords + 1):\n",
    "        length = int(input(f\"Enter the length for Password #{i}: \"))\n",
    "        generated_password = generate_password(length)\n",
    "        print(f\"Generated Password #{i}: {generated_password}\")\n",
    "        strength = check_password_strength(generated_password)\n",
    "        print(f\"Strength: {strength}\\n\")\n"
   ]
  },
  {
   "cell_type": "code",
   "execution_count": null,
   "id": "faed20ee",
   "metadata": {},
   "outputs": [],
   "source": []
  }
 ],
 "metadata": {
  "kernelspec": {
   "display_name": "Python 3 (ipykernel)",
   "language": "python",
   "name": "python3"
  },
  "language_info": {
   "codemirror_mode": {
    "name": "ipython",
    "version": 3
   },
   "file_extension": ".py",
   "mimetype": "text/x-python",
   "name": "python",
   "nbconvert_exporter": "python",
   "pygments_lexer": "ipython3",
   "version": "3.9.7"
  }
 },
 "nbformat": 4,
 "nbformat_minor": 5
}
